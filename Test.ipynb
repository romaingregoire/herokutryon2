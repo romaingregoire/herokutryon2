{
 "cells": [
  {
   "cell_type": "code",
   "execution_count": 1,
   "id": "c1cf35d1",
   "metadata": {},
   "outputs": [],
   "source": [
    "from bqplot import pyplot as plt\n",
    "import ipywidgets as widgets\n",
    "import numpy as np"
   ]
  },
  {
   "cell_type": "code",
   "execution_count": 2,
   "id": "7c17d891",
   "metadata": {},
   "outputs": [],
   "source": [
    "n = 2000\n",
    "x = np.linspace(0.0,10.0, n)\n",
    "np.random.seed(0)\n",
    "y = np.cumsum(np.random.randn(n)*10).astype(int)"
   ]
  },
  {
   "cell_type": "code",
   "execution_count": 3,
   "id": "e1902f1e-857b-40ee-81c3-08184d18d2ae",
   "metadata": {},
   "outputs": [
    {
     "data": {
      "application/vnd.jupyter.widget-view+json": {
       "model_id": "b4e5af6906544343a0a6ccb78ed56d47",
       "version_major": 2,
       "version_minor": 0
      },
      "text/plain": [
       "Figure(axes=[Axis(orientation='vertical', scale=LinearScale()), Axis(scale=LinearScale())], fig_margin={'top':…"
      ]
     },
     "metadata": {},
     "output_type": "display_data"
    }
   ],
   "source": [
    "fig_hist = plt.figure(title='Histogram from Scipy2019')\n",
    "hist = plt.hist(y, bins=25)\n",
    "fig_hist"
   ]
  },
  {
   "cell_type": "code",
   "execution_count": 4,
   "id": "f7f027ba-795d-4d2f-99b1-aedec858aeb5",
   "metadata": {},
   "outputs": [],
   "source": [
    "hist.bins = 20"
   ]
  },
  {
   "cell_type": "code",
   "execution_count": 5,
   "id": "f5f57d34-dd53-4f49-adc1-700dda450950",
   "metadata": {},
   "outputs": [
    {
     "data": {
      "application/vnd.jupyter.widget-view+json": {
       "model_id": "8daec5633710427090e387df558ec282",
       "version_major": 2,
       "version_minor": 0
      },
      "text/plain": [
       "IntSlider(value=20, min=1)"
      ]
     },
     "metadata": {},
     "output_type": "display_data"
    }
   ],
   "source": [
    "slider = widgets.IntSlider(min=1, max=100,v_model=30)\n",
    "slider.value = 40\n",
    "widgets.link((hist,'bins'),(slider,'value'));\n",
    "slider"
   ]
  },
  {
   "cell_type": "code",
   "execution_count": 6,
   "id": "535ebb35-3152-498e-8faf-9689cc16fb12",
   "metadata": {},
   "outputs": [
    {
     "data": {
      "application/vnd.jupyter.widget-view+json": {
       "model_id": "216a8d12d13a44b196f6714177c81f88",
       "version_major": 2,
       "version_minor": 0
      },
      "text/plain": [
       "Figure(axes=[Axis(scale=LinearScale()), Axis(orientation='vertical', scale=LinearScale())], fig_margin={'top':…"
      ]
     },
     "metadata": {},
     "output_type": "display_data"
    }
   ],
   "source": [
    "fig_lines = plt.figure(title='Line Chart')\n",
    "lines = plt.plot(x,y)\n",
    "fig_lines"
   ]
  },
  {
   "cell_type": "code",
   "execution_count": 7,
   "id": "b151d88c-b5db-4138-8a5e-58832e093586",
   "metadata": {},
   "outputs": [],
   "source": [
    "selector = plt.brush_int_selector()\n",
    "def update_range(*ignore):\n",
    "    if selector.selected is not None and len(selector.selected == 2):\n",
    "        xmin, xmax = selector.selected\n",
    "        mask = (x >xmin) & (x < xmax)\n",
    "        hist.sample = y[mask]\n",
    "\n",
    "selector.observe(update_range, 'selected')"
   ]
  },
  {
   "cell_type": "code",
   "execution_count": null,
   "id": "a6f113ee-6f6a-4367-8c00-75a6e67943f3",
   "metadata": {},
   "outputs": [],
   "source": []
  }
 ],
 "metadata": {
  "kernelspec": {
   "display_name": "Python 3 (ipykernel)",
   "language": "python",
   "name": "python3"
  },
  "language_info": {
   "codemirror_mode": {
    "name": "ipython",
    "version": 3
   },
   "file_extension": ".py",
   "mimetype": "text/x-python",
   "name": "python",
   "nbconvert_exporter": "python",
   "pygments_lexer": "ipython3",
   "version": "3.9.5"
  },
  "widgets": {
   "application/vnd.jupyter.widget-state+json": {
    "state": {
     "1e9eaab9c4f44ba48fe4e096798bbb20": {
      "model_module": "bqplot",
      "model_module_version": "^0.5.31",
      "model_name": "LinearScaleModel",
      "state": {
       "allow_padding": false,
       "max": 1,
       "min": 0,
       "stabilized": false
      }
     },
     "216a8d12d13a44b196f6714177c81f88": {
      "model_module": "bqplot",
      "model_module_version": "^0.5.31",
      "model_name": "FigureModel",
      "state": {
       "axes": [
        "IPY_MODEL_57d0c6f29dad4d13a1ddf4d42b250c58",
        "IPY_MODEL_77299b34bdcb409f97d5c7e284aa9bdf"
       ],
       "interaction": "IPY_MODEL_48cf588b8d3444dfb5f57ad23be2184a",
       "layout": "IPY_MODEL_48490d82f0fc4b81bc1d51c73daefc8e",
       "marks": [
        "IPY_MODEL_ee0272a2d7034b6e90ede2d6e2ea20b8"
       ],
       "scale_x": "IPY_MODEL_7477fa97151f48fe8448ab6a2cf3a482",
       "scale_y": "IPY_MODEL_fd08e00cb210486ca45fa18eec4daddb",
       "title": "Line Chart"
      }
     },
     "30fc44f6fa224838a020b85e05b84610": {
      "model_module": "bqplot",
      "model_module_version": "^0.5.31",
      "model_name": "LinearScaleModel",
      "state": {
       "allow_padding": false,
       "max": 1,
       "min": 0,
       "stabilized": false
      }
     },
     "3b606dde1d434c538d857fe68c918868": {
      "buffers": [
       {
        "data": "AAAAAAAA8D8AAAAAAAAAQAAAAAAAABRAAAAAAAAA8D8AAAAAAAAIQAAAAAAAAAhAAAAAAAAAIEAAAAAAAAAgQAAAAAAAACRAAAAAAAAAIkAAAAAAAAAUQAAAAAAAABBAAAAAAAAAFEAAAAAAAADwPwAAAAAAAABAAAAAAAAAAAAAAAAAAAAQQAAAAAAAAPA/AAAAAAAA8D8AAAAAAADwPwAAAAAAAABAAAAAAAAAFEAAAAAAAAAQQAAAAAAAABRAAAAAAAAACEAAAAAAAAAAQAAAAAAAAABAAAAAAAAACEAAAAAAAAAAQAAAAAAAAABAAAAAAAAAAAAAAAAAAADwPwAAAAAAAAhAAAAAAAAAEEAAAAAAAAAQQAAAAAAAAPA/AAAAAAAAAAAAAAAAAAAAQAAAAAAAAABAAAAAAAAAAEAAAAAAAAAIQAAAAAAAAAAAAAAAAAAAAAAAAAAAAAAQQAAAAAAAAABAAAAAAAAAEEAAAAAAAAAAQAAAAAAAABBAAAAAAAAA8D8AAAAAAAAUQAAAAAAAAAhAAAAAAAAACEAAAAAAAAAAQAAAAAAAAAhAAAAAAAAAAEAAAAAAAAAQQAAAAAAAAAAAAAAAAAAACEAAAAAAAAAIQAAAAAAAABRA",
        "encoding": "base64",
        "path": [
         "count",
         "value"
        ]
       },
       {
        "data": "GQAAABIAAAAiAAAAJQAAACsAAAAgAAAALAAAADMAAABAAAAAOgAAADUAAABMAAAAQgAAAEAAAABMAAAATQAAAFIAAABOAAAAUgAAAEUAAABWAAAAVAAAAE4AAABUAAAAUAAAAEIAAAA1AAAAPAAAADoAAAA5AAAARAAAADgAAAAxAAAALQAAAC4AAAAuAAAAKwAAACoAAAApAAAAIgAAABoAAAAdAAAAFAAAAAgAAAAFAAAAAwAAABoAAAATAAAAHAAAACQAAAAYAAAAIAAAABQAAAD6////AAAAAO/////z////7P////3///8HAAAAAgAAAPz////w////7P///+n////l////5////+3////w////6f///9r////o////4f///9r////V////w////77///+5////v////8b////G////0P///9P////T////1f///9P////P////zP///8H////E////uv///8L////A////wP///8X////L////vP///7r////C////sf///7X///+f////lf///5X///+E////ev///2z///98////fv///4T///+B////fv///27///9r////Y////2z///93////hv///47///+I////ff///4X///+I////d////3r///+C////g////4H///95////a////3P///9v////bf///37///+F////if///4r///+a////q////7T///+6////pf///6b///+l////pv///6////+U////jv///5H///+M////fv///4f///+K////gP///4P///+L////i////5P///+U////kP///4X///+E////hv///47///+N////kv///4j///+A////f////3X///99////gf///4T///+I////nP///5f///8=",
        "encoding": "base64",
        "path": [
         "sample",
         "value"
        ]
       }
      ],
      "model_module": "bqplot",
      "model_module_version": "^0.5.31",
      "model_name": "HistModel",
      "state": {
       "bins": 60,
       "count": {
        "dtype": "float64",
        "shape": [
         60
        ],
        "type": null
       },
       "midpoints": [
        -154.975,
        -150.925,
        -146.875,
        -142.825,
        -138.775,
        -134.725,
        -130.675,
        -126.625,
        -122.575,
        -118.525,
        -114.475,
        -110.42500000000001,
        -106.375,
        -102.325,
        -98.275,
        -94.225,
        -90.17500000000001,
        -86.125,
        -82.075,
        -78.025,
        -73.975,
        -69.92500000000001,
        -65.875,
        -61.82500000000001,
        -57.775000000000006,
        -53.725,
        -49.675000000000004,
        -45.62500000000001,
        -41.57500000000001,
        -37.525000000000006,
        -33.475,
        -29.425000000000004,
        -25.375,
        -21.325000000000003,
        -17.275000000000006,
        -13.225000000000009,
        -9.175000000000011,
        -5.125,
        -1.0750000000000028,
        2.9749999999999943,
        7.0249999999999915,
        11.074999999999989,
        15.125,
        19.174999999999997,
        23.224999999999994,
        27.27499999999999,
        31.32499999999999,
        35.374999999999986,
        39.42499999999998,
        43.474999999999994,
        47.52499999999999,
        51.57499999999999,
        55.624999999999986,
        59.67499999999998,
        63.724999999999994,
        67.77499999999999,
        71.82499999999999,
        75.87499999999999,
        79.92499999999998
       ],
       "sample": {
        "dtype": "int32",
        "shape": [
         176
        ],
        "type": null
       },
       "scales": {
        "count": "IPY_MODEL_be8629278fb745ed8b03887ed014c1e0",
        "sample": "IPY_MODEL_a3f8ddadaa544a60a2e3d701baeddf46"
       }
      }
     },
     "48490d82f0fc4b81bc1d51c73daefc8e": {
      "model_module": "@jupyter-widgets/base",
      "model_module_version": "1.2.0",
      "model_name": "LayoutModel",
      "state": {}
     },
     "48cf588b8d3444dfb5f57ad23be2184a": {
      "buffers": [
       {
        "data": "ix7E+Pl69j/Nf2qD7UUCQA==",
        "encoding": "base64",
        "path": [
         "selected",
         "value"
        ]
       }
      ],
      "model_module": "bqplot",
      "model_module_version": "^0.5.31",
      "model_name": "BrushIntervalSelectorModel",
      "state": {
       "marks": [
        "IPY_MODEL_ee0272a2d7034b6e90ede2d6e2ea20b8"
       ],
       "scale": "IPY_MODEL_d142069b82464dcb8c685140a4a1894a",
       "selected": {
        "dtype": "float64",
        "shape": [
         2
        ],
        "type": null
       }
      }
     },
     "57d0c6f29dad4d13a1ddf4d42b250c58": {
      "model_module": "bqplot",
      "model_module_version": "^0.5.31",
      "model_name": "AxisModel",
      "state": {
       "scale": "IPY_MODEL_d142069b82464dcb8c685140a4a1894a",
       "side": "bottom",
       "tick_values": null
      }
     },
     "61230c040d5043e688b4694c0b2c5edd": {
      "model_module": "bqplot",
      "model_module_version": "^0.5.31",
      "model_name": "AxisModel",
      "state": {
       "scale": "IPY_MODEL_a3f8ddadaa544a60a2e3d701baeddf46",
       "side": "bottom",
       "tick_values": null
      }
     },
     "6c66187c454f4373848fae0befdb91b5": {
      "model_module": "bqplot",
      "model_module_version": "^0.5.31",
      "model_name": "AxisModel",
      "state": {
       "orientation": "vertical",
       "scale": "IPY_MODEL_be8629278fb745ed8b03887ed014c1e0",
       "side": "left",
       "tick_values": null
      }
     },
     "7477fa97151f48fe8448ab6a2cf3a482": {
      "model_module": "bqplot",
      "model_module_version": "^0.5.31",
      "model_name": "LinearScaleModel",
      "state": {
       "allow_padding": false,
       "max": 1,
       "min": 0,
       "stabilized": false
      }
     },
     "77299b34bdcb409f97d5c7e284aa9bdf": {
      "model_module": "bqplot",
      "model_module_version": "^0.5.31",
      "model_name": "AxisModel",
      "state": {
       "orientation": "vertical",
       "scale": "IPY_MODEL_aeff84f0388e4b458a2fb0feb14ee262",
       "side": "left",
       "tick_values": null
      }
     },
     "8daec5633710427090e387df558ec282": {
      "model_module": "@jupyter-widgets/controls",
      "model_module_version": "1.5.0",
      "model_name": "IntSliderModel",
      "state": {
       "layout": "IPY_MODEL_f65f70e980ea4f1385068df227c2874f",
       "min": 1,
       "style": "IPY_MODEL_fb77a26fea5649b89202666d5227b7a4",
       "value": 60
      }
     },
     "a3f8ddadaa544a60a2e3d701baeddf46": {
      "model_module": "bqplot",
      "model_module_version": "^0.5.31",
      "model_name": "LinearScaleModel",
      "state": {
       "stabilized": false
      }
     },
     "aeff84f0388e4b458a2fb0feb14ee262": {
      "model_module": "bqplot",
      "model_module_version": "^0.5.31",
      "model_name": "LinearScaleModel",
      "state": {
       "stabilized": false
      }
     },
     "b4e5af6906544343a0a6ccb78ed56d47": {
      "model_module": "bqplot",
      "model_module_version": "^0.5.31",
      "model_name": "FigureModel",
      "state": {
       "axes": [
        "IPY_MODEL_6c66187c454f4373848fae0befdb91b5",
        "IPY_MODEL_61230c040d5043e688b4694c0b2c5edd"
       ],
       "layout": "IPY_MODEL_f97f018385744d0e97dfa5d488d55df0",
       "marks": [
        "IPY_MODEL_3b606dde1d434c538d857fe68c918868"
       ],
       "scale_x": "IPY_MODEL_30fc44f6fa224838a020b85e05b84610",
       "scale_y": "IPY_MODEL_1e9eaab9c4f44ba48fe4e096798bbb20",
       "title": "Histogram from Scipy2019"
      }
     },
     "be8629278fb745ed8b03887ed014c1e0": {
      "model_module": "bqplot",
      "model_module_version": "^0.5.31",
      "model_name": "LinearScaleModel",
      "state": {
       "stabilized": false
      }
     },
     "d142069b82464dcb8c685140a4a1894a": {
      "model_module": "bqplot",
      "model_module_version": "^0.5.31",
      "model_name": "LinearScaleModel",
      "state": {
       "stabilized": false
      }
     },
     "ee0272a2d7034b6e90ede2d6e2ea20b8": {
      "buffers": [
       {
        "data": "GQEAABoBAAAbAQAAHAEAAB0BAAAeAQAAHwEAACABAAAhAQAAIgEAACMBAAAkAQAAJQEAACYBAAAnAQAAKAEAACkBAAAqAQAAKwEAACwBAAAtAQAALgEAAC8BAAAwAQAAMQEAADIBAAAzAQAANAEAADUBAAA2AQAANwEAADgBAAA5AQAAOgEAADsBAAA8AQAAPQEAAD4BAAA/AQAAQAEAAEEBAABCAQAAQwEAAEQBAABFAQAARgEAAEcBAABIAQAASQEAAEoBAABLAQAATAEAAE0BAABOAQAATwEAAFABAABRAQAAUgEAAFMBAABUAQAAVQEAAFYBAABXAQAAWAEAAFkBAABaAQAAWwEAAFwBAABdAQAAXgEAAF8BAABgAQAAYQEAAGIBAABjAQAAZAEAAGUBAABmAQAAZwEAAGgBAABpAQAAagEAAGsBAABsAQAAbQEAAG4BAABvAQAAcAEAAHEBAAByAQAAcwEAAHQBAAB1AQAAdgEAAHcBAAB4AQAAeQEAAHoBAAB7AQAAfAEAAH0BAAB+AQAAfwEAAIABAACBAQAAggEAAIMBAACEAQAAhQEAAIYBAACHAQAAiAEAAIkBAACKAQAAiwEAAIwBAACNAQAAjgEAAI8BAACQAQAAkQEAAJIBAACTAQAAlAEAAJUBAACWAQAAlwEAAJgBAACZAQAAmgEAAJsBAACcAQAAnQEAAJ4BAACfAQAAoAEAAKEBAACiAQAAowEAAKQBAAClAQAApgEAAKcBAACoAQAAqQEAAKoBAACrAQAArAEAAK0BAACuAQAArwEAALABAACxAQAAsgEAALMBAAC0AQAAtQEAALYBAAC3AQAAuAEAALkBAAC6AQAAuwEAALwBAAC9AQAAvgEAAL8BAADAAQAAwQEAAMIBAADDAQAAxAEAAMUBAADGAQAAxwEAAMgBAAA=",
        "encoding": "base64",
        "path": [
         "selected",
         "value"
        ]
       },
       {
        "data": "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",
        "encoding": "base64",
        "path": [
         "x",
         "value"
        ]
       },
       {
        "data": "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",
        "encoding": "base64",
        "path": [
         "y",
         "value"
        ]
       }
      ],
      "model_module": "bqplot",
      "model_module_version": "^0.5.31",
      "model_name": "LinesModel",
      "state": {
       "fill_colors": [],
       "labels": [
        "C1"
       ],
       "scales": {
        "x": "IPY_MODEL_d142069b82464dcb8c685140a4a1894a",
        "y": "IPY_MODEL_aeff84f0388e4b458a2fb0feb14ee262"
       },
       "selected": {
        "dtype": "uint32",
        "shape": [
         176
        ],
        "type": null
       },
       "x": {
        "dtype": "float64",
        "shape": [
         2000
        ],
        "type": null
       },
       "y": {
        "dtype": "int32",
        "shape": [
         2000
        ],
        "type": null
       }
      }
     },
     "f65f70e980ea4f1385068df227c2874f": {
      "model_module": "@jupyter-widgets/base",
      "model_module_version": "1.2.0",
      "model_name": "LayoutModel",
      "state": {}
     },
     "f97f018385744d0e97dfa5d488d55df0": {
      "model_module": "@jupyter-widgets/base",
      "model_module_version": "1.2.0",
      "model_name": "LayoutModel",
      "state": {}
     },
     "fb77a26fea5649b89202666d5227b7a4": {
      "model_module": "@jupyter-widgets/controls",
      "model_module_version": "1.5.0",
      "model_name": "SliderStyleModel",
      "state": {
       "description_width": ""
      }
     },
     "fd08e00cb210486ca45fa18eec4daddb": {
      "model_module": "bqplot",
      "model_module_version": "^0.5.31",
      "model_name": "LinearScaleModel",
      "state": {
       "allow_padding": false,
       "max": 1,
       "min": 0,
       "stabilized": false
      }
     }
    },
    "version_major": 2,
    "version_minor": 0
   }
  }
 },
 "nbformat": 4,
 "nbformat_minor": 5
}
